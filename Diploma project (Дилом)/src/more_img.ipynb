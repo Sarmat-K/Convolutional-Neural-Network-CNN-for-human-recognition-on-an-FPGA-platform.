{
 "cells": [
  {
   "cell_type": "code",
   "execution_count": 1,
   "metadata": {},
   "outputs": [
    {
     "name": "stdout",
     "output_type": "stream",
     "text": [
      "loading annotations into memory...\n",
      "Done (t=27.03s)\n",
      "creating index...\n",
      "index created!\n",
      "Найдено 64115 изображений с людьми.\n",
      "Копирование изображений с людьми...\n"
     ]
    },
    {
     "name": "stderr",
     "output_type": "stream",
     "text": [
      "100%|██████████| 64115/64115 [1:06:11<00:00, 16.14it/s]\n"
     ]
    },
    {
     "name": "stdout",
     "output_type": "stream",
     "text": [
      "Скопировано 64115 изображений с людьми.\n",
      "Найдено 54172 фотографий без людей.\n",
      "Копирование фотографий без людей...\n"
     ]
    },
    {
     "name": "stderr",
     "output_type": "stream",
     "text": [
      "100%|██████████| 54172/54172 [52:09<00:00, 17.31it/s]"
     ]
    },
    {
     "name": "stdout",
     "output_type": "stream",
     "text": [
      "Скопировано 54172 фотографий без людей.\n"
     ]
    },
    {
     "name": "stderr",
     "output_type": "stream",
     "text": [
      "\n"
     ]
    }
   ],
   "source": [
    "import os\n",
    "import shutil\n",
    "from pycocotools.coco import COCO\n",
    "from tqdm import tqdm\n",
    "\n",
    "# Путь к аннотациям COCO датасета\n",
    "dataDir = 'D:/COCO Dataset'\n",
    "dataType = 'train2017'  # Или другой тип данных, например, 'val2017' или 'test2017'\n",
    "\n",
    "# Путь к папке, где будут сохранены изображения с людьми\n",
    "person_dir = 'D:/Data/Train/Person'\n",
    "# Путь к папке, где будут сохранены изображения заднего фона\n",
    "background_dir = 'D:/Data/Train/Background'\n",
    "\n",
    "# Ограничение на количество фотографий\n",
    "max_person_images = 25000  # Максимальное количество фотографий с людьми для копирования\n",
    "max_background_images = 25000  # Максимальное количество фотографий заднего фона для копирования\n",
    "\n",
    "# Загрузка аннотаций COCO\n",
    "annFile = os.path.join(dataDir, 'annotations', f'instances_{dataType}.json')\n",
    "coco = COCO(annFile)\n",
    "\n",
    "# Получение идентификаторов категорий\n",
    "catIds = coco.getCatIds(catNms=['person'])\n",
    "imgIds = coco.getImgIds(catIds=catIds)  # Ограничение количества фотографий с людьми\n",
    "\n",
    "# Вывод информации о количестве изображений с людьми\n",
    "print(f\"Найдено {len(imgIds)} изображений с людьми.\")\n",
    "# Извлечение фотографий с людьми\n",
    "print(\"Копирование изображений с людьми...\")\n",
    "for imgId in tqdm(imgIds):\n",
    "    imgInfo = coco.loadImgs(imgId)[0]\n",
    "    imgPath = os.path.join(dataDir, dataType, imgInfo['file_name'])\n",
    "    shutil.copy(imgPath, person_dir)\n",
    "\n",
    "# Вывод информации о количестве скопированных изображений с людьми\n",
    "print(f\"Скопировано {len(imgIds)} изображений с людьми.\")\n",
    "\n",
    "# Получение идентификаторов фотографий без людей\n",
    "imgIds_all = coco.getImgIds()\n",
    "imgIds_background = list(set(imgIds_all) - set(imgIds)) # Ограничение количества фотографий без людей\n",
    "\n",
    "# Вывод информации о количестве фотографий без людей\n",
    "print(f\"Найдено {len(imgIds_background)} фотографий без людей.\")\n",
    "\n",
    "print(\"Копирование фотографий без людей...\")\n",
    "for imgId in tqdm(imgIds_background):\n",
    "    imgInfo = coco.loadImgs(imgId)[0]\n",
    "    imgPath = os.path.join(dataDir, dataType, imgInfo['file_name'])\n",
    "    shutil.copy(imgPath, background_dir)\n",
    "\n",
    "# Вывод информации о количестве скопированных фотографий без людей\n",
    "print(f\"Скопировано {len(imgIds_background)} фотографий без людей.\")"
   ]
  }
 ],
 "metadata": {
  "kernelspec": {
   "display_name": "Python 3",
   "language": "python",
   "name": "python3"
  },
  "language_info": {
   "codemirror_mode": {
    "name": "ipython",
    "version": 3
   },
   "file_extension": ".py",
   "mimetype": "text/x-python",
   "name": "python",
   "nbconvert_exporter": "python",
   "pygments_lexer": "ipython3",
   "version": "3.11.3"
  },
  "orig_nbformat": 4
 },
 "nbformat": 4,
 "nbformat_minor": 2
}
