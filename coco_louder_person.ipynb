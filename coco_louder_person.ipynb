{
 "cells": [
  {
   "cell_type": "code",
   "execution_count": null,
   "metadata": {},
   "outputs": [],
   "source": [
    "from pycocotools.coco import COCO\n",
    "import requests\n",
    "\n",
    "# instantiate COCO specifying the annotations json path\n",
    "coco = COCO('D:/Курсовой проект/annotations/annotations/instances_train2017.json')\n",
    "# Specify a list of category names of interest\n",
    "catIds = coco.getCatIds(catNms=['person'])\n",
    "# Get the corresponding image ids and images using loadImgs\n",
    "imgIds = coco.getImgIds(catIds=catIds)\n",
    "images = coco.loadImgs(imgIds)"
   ]
  },
  {
   "cell_type": "code",
   "execution_count": null,
   "metadata": {},
   "outputs": [],
   "source": [
    "count = 0\n",
    "# Save the images into a local folder\n",
    "for im in images:\n",
    "    img_data = requests.get(im['coco_url']).content\n",
    "    count += 1\n",
    "    print(count,\":\", len(images))\n",
    "    with open('D:/Курсовой проект/dataset/person/' + im['file_name'], 'wb') as handler:\n",
    "        handler.write(img_data)"
   ]
  },
  {
   "cell_type": "code",
   "execution_count": null,
   "metadata": {},
   "outputs": [],
   "source": [
    "from coco_dataset import coco_dataset_download as cocod\n",
    "class_name='person'  #class name example \n",
    "images_count=54       #count of images  \n",
    "annotations_path='D:/Курсовой проект/annotations/instances_train2017.json' #path of coco dataset annotations \n",
    "#call download function \n",
    "cocod.coco_dataset_download(class_name,images_count,annotations_path)"
   ]
  },
  {
   "cell_type": "code",
   "execution_count": null,
   "metadata": {},
   "outputs": [],
   "source": [
    "from coco_dataset import coco_dataset_download as cocod\n",
    "class_name='bus'  #class name example \n",
    "images_count=50       #count of images  \n",
    "annotations_path='/content/annotations/instances_train2014.json' #path of coco dataset annotations \n",
    "#call download function \n",
    "cocod.coco_dataset_download(class_name,images_count,annotations_path)"
   ]
  },
  {
   "cell_type": "code",
   "execution_count": null,
   "metadata": {},
   "outputs": [],
   "source": []
  }
 ],
 "metadata": {
  "kernelspec": {
   "display_name": "Python 3",
   "language": "python",
   "name": "python3"
  },
  "language_info": {
   "codemirror_mode": {
    "name": "ipython",
    "version": 3
   },
   "file_extension": ".py",
   "mimetype": "text/x-python",
   "name": "python",
   "nbconvert_exporter": "python",
   "pygments_lexer": "ipython3",
   "version": "3.11.3"
  },
  "orig_nbformat": 4
 },
 "nbformat": 4,
 "nbformat_minor": 2
}
